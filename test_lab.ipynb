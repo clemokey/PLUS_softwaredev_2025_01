{
 "cells": [
  {
   "cell_type": "code",
   "execution_count": 5,
   "id": "1ae97496-e6bc-45e2-95c1-817b9d013dd4",
   "metadata": {},
   "outputs": [],
   "source": [
    "import helloworld"
   ]
  },
  {
   "cell_type": "code",
   "execution_count": 6,
   "id": "66f2de24-690d-4399-84ba-0d10a41329e1",
   "metadata": {},
   "outputs": [],
   "source": [
    "from helloworld import say_hello"
   ]
  },
  {
   "cell_type": "code",
   "execution_count": 9,
   "id": "85bcd983-6aab-412a-89e3-d6564c48abbc",
   "metadata": {},
   "outputs": [
    {
     "name": "stdout",
     "output_type": "stream",
     "text": [
      "Hello, world! Hello Emanuel \n",
      "Emanuel\n"
     ]
    }
   ],
   "source": [
    "print(say_hello(\"Emanuel\"))"
   ]
  },
  {
   "cell_type": "code",
   "execution_count": 12,
   "id": "0c5202f4-182e-4b00-911b-165aff7ca539",
   "metadata": {},
   "outputs": [
    {
     "data": {
      "text/plain": [
       "7"
      ]
     },
     "execution_count": 12,
     "metadata": {},
     "output_type": "execute_result"
    }
   ],
   "source": [
    "helloworld.days_of_the_week"
   ]
  },
  {
   "cell_type": "code",
   "execution_count": 13,
   "id": "ab92aff0-77f4-4528-a257-7dd935a7270b",
   "metadata": {},
   "outputs": [
    {
     "data": {
      "text/plain": [
       "'C:\\\\Users\\\\Bamidele\\\\OneDrive - Universität Salzburg\\\\PSD\\\\PLUS_softwaredev_2025_01'"
      ]
     },
     "execution_count": 13,
     "metadata": {},
     "output_type": "execute_result"
    }
   ],
   "source": [
    "pwd"
   ]
  }
 ],
 "metadata": {
  "kernelspec": {
   "display_name": "Python 3 (ipykernel)",
   "language": "python",
   "name": "python3"
  },
  "language_info": {
   "codemirror_mode": {
    "name": "ipython",
    "version": 3
   },
   "file_extension": ".py",
   "mimetype": "text/x-python",
   "name": "python",
   "nbconvert_exporter": "python",
   "pygments_lexer": "ipython3",
   "version": "3.9.16"
  }
 },
 "nbformat": 4,
 "nbformat_minor": 5
}
