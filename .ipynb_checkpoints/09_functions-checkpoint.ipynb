{
 "cells": [
  {
   "cell_type": "markdown",
   "id": "3785789f",
   "metadata": {},
   "source": [
    "# Functions\n",
    "\n",
    "We have tried Python standard functions, standard libraries and a few geo-related python libraries in this course so far, mostly in Jupyter notebooks. Now, we are going back to some programming fundamentals in Python.\n",
    "\n",
    "Creating functions are a way to divide your code into reusable pieces that can be run/used multiple times, sort of like running a Jupyter notebook cell.\n",
    "\n",
    "You can think of a function like a block of code. A function can take parameters (or not!) to run, and can also return something to the user (e.g. a variable that can be of any type (e.g. list, string, integer), multiple variables, other python objects like a class or figure object from the matplotlib introduction that was shared with you).\n",
    "\n",
    "## Defining a function\n",
    "\n",
    "To define a function in python, the **def** keyword is used, which is short for definition, followed by parentheses () and a colon : The code contained in the function begins on the next line after the colon and each line to be included in the function must be indented at least once so that the python interpreter knows that it belongs together."
   ]
  },
  {
   "cell_type": "code",
   "execution_count": 2,
   "id": "19a3dc23",
   "metadata": {},
   "outputs": [],
   "source": [
    "# This one line of code begins to define a function.\n",
    "# If you run it like this, it will throw an end-of-file (EOF) error,\n",
    "# this is because it expects something, anything other than an\n",
    "# absolutely empty function.\n",
    "def this_is_a_function_0():\n",
    "    return"
   ]
  },
  {
   "cell_type": "code",
   "execution_count": 3,
   "id": "7c01aab6",
   "metadata": {},
   "outputs": [],
   "source": [
    "# You can fix this either by explicitly writing the keyword \"return\"...\n",
    "def this_is_a_function_1():\n",
    "    return"
   ]
  },
  {
   "cell_type": "code",
   "execution_count": 4,
   "id": "ca83ad8f",
   "metadata": {},
   "outputs": [],
   "source": [
    "# Or by doing something, anything, inside the function...\n",
    "def this_is_a_function_2():\n",
    "    variable = \"string\""
   ]
  },
  {
   "cell_type": "code",
   "execution_count": 5,
   "id": "8cd2d59a",
   "metadata": {},
   "outputs": [],
   "source": [
    "# Or both...\n",
    "def this_is_a_function_3():\n",
    "    variable = \"string\"\n",
    "    return variable"
   ]
  },
  {
   "cell_type": "markdown",
   "id": "9b9d3f5b",
   "metadata": {},
   "source": [
    "Technically you have defined 3 functions now! If you remember from earlier in the course, you can check this using the built-in globals() and locals() functions."
   ]
  },
  {
   "cell_type": "code",
   "execution_count": 6,
   "id": "8d4e2c14",
   "metadata": {},
   "outputs": [
    {
     "data": {
      "text/plain": [
       "{'__name__': '__main__',\n",
       " '__doc__': 'Automatically created module for IPython interactive environment',\n",
       " '__package__': None,\n",
       " '__loader__': None,\n",
       " '__spec__': None,\n",
       " '__builtin__': <module 'builtins' (built-in)>,\n",
       " '__builtins__': <module 'builtins' (built-in)>,\n",
       " '_ih': ['',\n",
       "  '# This one line of code begins to define a function.\\n# If you run it like this, it will throw an end-of-file (EOF) error,\\n# this is because it expects something, anything other than an\\n# absolutely empty function.\\ndef this_is_a_function_0():',\n",
       "  '# This one line of code begins to define a function.\\n# If you run it like this, it will throw an end-of-file (EOF) error,\\n# this is because it expects something, anything other than an\\n# absolutely empty function.\\ndef this_is_a_function_0():\\n    return',\n",
       "  '# You can fix this either by explicitly writing the keyword \"return\"...\\ndef this_is_a_function_1():\\n    return',\n",
       "  '# Or by doing something, anything, inside the function...\\ndef this_is_a_function_2():\\n    variable = \"string\"',\n",
       "  '# Or both...\\ndef this_is_a_function_3():\\n    variable = \"string\"\\n    return variable',\n",
       "  'globals()'],\n",
       " '_oh': {},\n",
       " '_dh': [WindowsPath('C:/Users/clemo/OneDrive - Universität Salzburg/Semester 2/PSD/PLUS_softwaredev_2025_01')],\n",
       " 'In': ['',\n",
       "  '# This one line of code begins to define a function.\\n# If you run it like this, it will throw an end-of-file (EOF) error,\\n# this is because it expects something, anything other than an\\n# absolutely empty function.\\ndef this_is_a_function_0():',\n",
       "  '# This one line of code begins to define a function.\\n# If you run it like this, it will throw an end-of-file (EOF) error,\\n# this is because it expects something, anything other than an\\n# absolutely empty function.\\ndef this_is_a_function_0():\\n    return',\n",
       "  '# You can fix this either by explicitly writing the keyword \"return\"...\\ndef this_is_a_function_1():\\n    return',\n",
       "  '# Or by doing something, anything, inside the function...\\ndef this_is_a_function_2():\\n    variable = \"string\"',\n",
       "  '# Or both...\\ndef this_is_a_function_3():\\n    variable = \"string\"\\n    return variable',\n",
       "  'globals()'],\n",
       " 'Out': {},\n",
       " 'get_ipython': <bound method InteractiveShell.get_ipython of <ipykernel.zmqshell.ZMQInteractiveShell object at 0x000002DA1A1DFCD0>>,\n",
       " 'exit': <IPython.core.autocall.ZMQExitAutocall at 0x2da1a1ebad0>,\n",
       " 'quit': <IPython.core.autocall.ZMQExitAutocall at 0x2da1a1ebad0>,\n",
       " 'open': <function io.open(file, mode='r', buffering=-1, encoding=None, errors=None, newline=None, closefd=True, opener=None)>,\n",
       " '_': '',\n",
       " '__': '',\n",
       " '___': '',\n",
       " '__session__': 'C:\\\\Users\\\\clemo\\\\OneDrive - Universität Salzburg\\\\Semester 2\\\\PSD\\\\PLUS_softwaredev_2025_01\\\\09_functions.ipynb',\n",
       " '_i': '# Or both...\\ndef this_is_a_function_3():\\n    variable = \"string\"\\n    return variable',\n",
       " '_ii': '# Or by doing something, anything, inside the function...\\ndef this_is_a_function_2():\\n    variable = \"string\"',\n",
       " '_iii': '# You can fix this either by explicitly writing the keyword \"return\"...\\ndef this_is_a_function_1():\\n    return',\n",
       " '_i1': '# This one line of code begins to define a function.\\n# If you run it like this, it will throw an end-of-file (EOF) error,\\n# this is because it expects something, anything other than an\\n# absolutely empty function.\\ndef this_is_a_function_0():',\n",
       " '_i2': '# This one line of code begins to define a function.\\n# If you run it like this, it will throw an end-of-file (EOF) error,\\n# this is because it expects something, anything other than an\\n# absolutely empty function.\\ndef this_is_a_function_0():\\n    return',\n",
       " 'this_is_a_function_0': <function __main__.this_is_a_function_0()>,\n",
       " '_i3': '# You can fix this either by explicitly writing the keyword \"return\"...\\ndef this_is_a_function_1():\\n    return',\n",
       " 'this_is_a_function_1': <function __main__.this_is_a_function_1()>,\n",
       " '_i4': '# Or by doing something, anything, inside the function...\\ndef this_is_a_function_2():\\n    variable = \"string\"',\n",
       " 'this_is_a_function_2': <function __main__.this_is_a_function_2()>,\n",
       " '_i5': '# Or both...\\ndef this_is_a_function_3():\\n    variable = \"string\"\\n    return variable',\n",
       " 'this_is_a_function_3': <function __main__.this_is_a_function_3()>,\n",
       " '_i6': 'globals()'}"
      ]
     },
     "execution_count": 6,
     "metadata": {},
     "output_type": "execute_result"
    }
   ],
   "source": [
    "globals()"
   ]
  },
  {
   "cell_type": "code",
   "execution_count": 7,
   "id": "617eaab0",
   "metadata": {},
   "outputs": [
    {
     "data": {
      "text/plain": [
       "{'__name__': '__main__',\n",
       " '__doc__': 'Automatically created module for IPython interactive environment',\n",
       " '__package__': None,\n",
       " '__loader__': None,\n",
       " '__spec__': None,\n",
       " '__builtin__': <module 'builtins' (built-in)>,\n",
       " '__builtins__': <module 'builtins' (built-in)>,\n",
       " '_ih': ['',\n",
       "  '# This one line of code begins to define a function.\\n# If you run it like this, it will throw an end-of-file (EOF) error,\\n# this is because it expects something, anything other than an\\n# absolutely empty function.\\ndef this_is_a_function_0():',\n",
       "  '# This one line of code begins to define a function.\\n# If you run it like this, it will throw an end-of-file (EOF) error,\\n# this is because it expects something, anything other than an\\n# absolutely empty function.\\ndef this_is_a_function_0():\\n    return',\n",
       "  '# You can fix this either by explicitly writing the keyword \"return\"...\\ndef this_is_a_function_1():\\n    return',\n",
       "  '# Or by doing something, anything, inside the function...\\ndef this_is_a_function_2():\\n    variable = \"string\"',\n",
       "  '# Or both...\\ndef this_is_a_function_3():\\n    variable = \"string\"\\n    return variable',\n",
       "  'globals()',\n",
       "  'locals()'],\n",
       " '_oh': {6: {...}},\n",
       " '_dh': [WindowsPath('C:/Users/clemo/OneDrive - Universität Salzburg/Semester 2/PSD/PLUS_softwaredev_2025_01')],\n",
       " 'In': ['',\n",
       "  '# This one line of code begins to define a function.\\n# If you run it like this, it will throw an end-of-file (EOF) error,\\n# this is because it expects something, anything other than an\\n# absolutely empty function.\\ndef this_is_a_function_0():',\n",
       "  '# This one line of code begins to define a function.\\n# If you run it like this, it will throw an end-of-file (EOF) error,\\n# this is because it expects something, anything other than an\\n# absolutely empty function.\\ndef this_is_a_function_0():\\n    return',\n",
       "  '# You can fix this either by explicitly writing the keyword \"return\"...\\ndef this_is_a_function_1():\\n    return',\n",
       "  '# Or by doing something, anything, inside the function...\\ndef this_is_a_function_2():\\n    variable = \"string\"',\n",
       "  '# Or both...\\ndef this_is_a_function_3():\\n    variable = \"string\"\\n    return variable',\n",
       "  'globals()',\n",
       "  'locals()'],\n",
       " 'Out': {6: {...}},\n",
       " 'get_ipython': <bound method InteractiveShell.get_ipython of <ipykernel.zmqshell.ZMQInteractiveShell object at 0x000002DA1A1DFCD0>>,\n",
       " 'exit': <IPython.core.autocall.ZMQExitAutocall at 0x2da1a1ebad0>,\n",
       " 'quit': <IPython.core.autocall.ZMQExitAutocall at 0x2da1a1ebad0>,\n",
       " 'open': <function io.open(file, mode='r', buffering=-1, encoding=None, errors=None, newline=None, closefd=True, opener=None)>,\n",
       " '_': {...},\n",
       " '__': '',\n",
       " '___': '',\n",
       " '__session__': 'C:\\\\Users\\\\clemo\\\\OneDrive - Universität Salzburg\\\\Semester 2\\\\PSD\\\\PLUS_softwaredev_2025_01\\\\09_functions.ipynb',\n",
       " '_i': 'globals()',\n",
       " '_ii': '# Or both...\\ndef this_is_a_function_3():\\n    variable = \"string\"\\n    return variable',\n",
       " '_iii': '# Or by doing something, anything, inside the function...\\ndef this_is_a_function_2():\\n    variable = \"string\"',\n",
       " '_i1': '# This one line of code begins to define a function.\\n# If you run it like this, it will throw an end-of-file (EOF) error,\\n# this is because it expects something, anything other than an\\n# absolutely empty function.\\ndef this_is_a_function_0():',\n",
       " '_i2': '# This one line of code begins to define a function.\\n# If you run it like this, it will throw an end-of-file (EOF) error,\\n# this is because it expects something, anything other than an\\n# absolutely empty function.\\ndef this_is_a_function_0():\\n    return',\n",
       " 'this_is_a_function_0': <function __main__.this_is_a_function_0()>,\n",
       " '_i3': '# You can fix this either by explicitly writing the keyword \"return\"...\\ndef this_is_a_function_1():\\n    return',\n",
       " 'this_is_a_function_1': <function __main__.this_is_a_function_1()>,\n",
       " '_i4': '# Or by doing something, anything, inside the function...\\ndef this_is_a_function_2():\\n    variable = \"string\"',\n",
       " 'this_is_a_function_2': <function __main__.this_is_a_function_2()>,\n",
       " '_i5': '# Or both...\\ndef this_is_a_function_3():\\n    variable = \"string\"\\n    return variable',\n",
       " 'this_is_a_function_3': <function __main__.this_is_a_function_3()>,\n",
       " '_i6': 'globals()',\n",
       " '_6': {...},\n",
       " '_i7': 'locals()'}"
      ]
     },
     "execution_count": 7,
     "metadata": {},
     "output_type": "execute_result"
    }
   ],
   "source": [
    "locals()"
   ]
  },
  {
   "cell_type": "code",
   "execution_count": 8,
   "id": "013cefe3",
   "metadata": {},
   "outputs": [
    {
     "data": {
      "text/plain": [
       "<function __main__.this_is_a_function_1()>"
      ]
     },
     "execution_count": 8,
     "metadata": {},
     "output_type": "execute_result"
    }
   ],
   "source": [
    "this_is_a_function_1"
   ]
  },
  {
   "cell_type": "markdown",
   "id": "1eb99f61",
   "metadata": {},
   "source": [
    "If you just call the name of the function (without the parentheses), iPython will explain to you what kind of object it is. In this case, __main__ is a namespace, which means this file or script."
   ]
  },
  {
   "cell_type": "code",
   "execution_count": 9,
   "id": "a7916cfe",
   "metadata": {},
   "outputs": [
    {
     "data": {
      "text/plain": [
       "<function __main__.this_is_a_function_2()>"
      ]
     },
     "execution_count": 9,
     "metadata": {},
     "output_type": "execute_result"
    }
   ],
   "source": [
    "this_is_a_function_2"
   ]
  },
  {
   "cell_type": "code",
   "execution_count": 10,
   "id": "c2116a53",
   "metadata": {},
   "outputs": [
    {
     "data": {
      "text/plain": [
       "<function __main__.this_is_a_function_3()>"
      ]
     },
     "execution_count": 10,
     "metadata": {},
     "output_type": "execute_result"
    }
   ],
   "source": [
    "this_is_a_function_3"
   ]
  },
  {
   "cell_type": "markdown",
   "id": "c4fd737a",
   "metadata": {},
   "source": [
    "You can also check this using the built-in type function."
   ]
  },
  {
   "cell_type": "code",
   "execution_count": 11,
   "id": "6d033bb1",
   "metadata": {},
   "outputs": [
    {
     "data": {
      "text/plain": [
       "function"
      ]
     },
     "execution_count": 11,
     "metadata": {},
     "output_type": "execute_result"
    }
   ],
   "source": [
    "type(this_is_a_function_1)"
   ]
  },
  {
   "cell_type": "code",
   "execution_count": 12,
   "id": "f740beb3",
   "metadata": {},
   "outputs": [
    {
     "data": {
      "text/plain": [
       "function"
      ]
     },
     "execution_count": 12,
     "metadata": {},
     "output_type": "execute_result"
    }
   ],
   "source": [
    "type(this_is_a_function_2)"
   ]
  },
  {
   "cell_type": "code",
   "execution_count": 13,
   "id": "8e6e53b0",
   "metadata": {},
   "outputs": [
    {
     "data": {
      "text/plain": [
       "function"
      ]
     },
     "execution_count": 13,
     "metadata": {},
     "output_type": "execute_result"
    }
   ],
   "source": [
    "type(this_is_a_function_3)"
   ]
  },
  {
   "cell_type": "markdown",
   "id": "c82f2e8b",
   "metadata": {},
   "source": [
    "See how the output of the type() functions differs when you actually call the function. Calling the function means that you make it run, or execute the function. To do this, you need to include the parentheses. In the case of a function that takes arguments/parameters, these parenthesis will not be empty, but first see what happens based on the very basic functions we defined in the cells before..."
   ]
  },
  {
   "cell_type": "code",
   "execution_count": 14,
   "id": "548c98e0",
   "metadata": {},
   "outputs": [
    {
     "data": {
      "text/plain": [
       "NoneType"
      ]
     },
     "execution_count": 14,
     "metadata": {},
     "output_type": "execute_result"
    }
   ],
   "source": [
    "# This is the function that just included \"return\"\n",
    "type(this_is_a_function_1())"
   ]
  },
  {
   "cell_type": "code",
   "execution_count": 15,
   "id": "4689e8d5",
   "metadata": {},
   "outputs": [
    {
     "data": {
      "text/plain": [
       "NoneType"
      ]
     },
     "execution_count": 15,
     "metadata": {},
     "output_type": "execute_result"
    }
   ],
   "source": [
    "# This is the function that defined a variable but was defined not\n",
    "# to return anything.\n",
    "type(this_is_a_function_2())"
   ]
  },
  {
   "cell_type": "code",
   "execution_count": 16,
   "id": "31f7c4c5",
   "metadata": {},
   "outputs": [
    {
     "data": {
      "text/plain": [
       "str"
      ]
     },
     "execution_count": 16,
     "metadata": {},
     "output_type": "execute_result"
    }
   ],
   "source": [
    "# This is the function that defined a string variable\n",
    "# and returned it!\n",
    "type(this_is_a_function_3())"
   ]
  },
  {
   "cell_type": "markdown",
   "id": "803b3685",
   "metadata": {},
   "source": [
    "What you see here is that the built-in type() function is now receiving the output of whatever defined function as input instead of the function itself because you called the function and it did a thing!\n",
    "\n",
    "Just to be a bit more clear, here are a few more functions that are called and then given to the type() function as input."
   ]
  },
  {
   "cell_type": "code",
   "execution_count": 17,
   "id": "8daf59be",
   "metadata": {},
   "outputs": [],
   "source": [
    "def this_is_a_function_4():\n",
    "    variable = 586.334\n",
    "    return variable"
   ]
  },
  {
   "cell_type": "code",
   "execution_count": 18,
   "id": "8118efc9",
   "metadata": {},
   "outputs": [
    {
     "data": {
      "text/plain": [
       "float"
      ]
     },
     "execution_count": 18,
     "metadata": {},
     "output_type": "execute_result"
    }
   ],
   "source": [
    "type(this_is_a_function_4())"
   ]
  },
  {
   "cell_type": "code",
   "execution_count": 19,
   "id": "668177a4",
   "metadata": {},
   "outputs": [],
   "source": [
    "def this_is_a_function_5():\n",
    "    variable_1 = 586.334\n",
    "    variable_2 = \"String!\"\n",
    "    return variable_1, variable_2"
   ]
  },
  {
   "cell_type": "code",
   "execution_count": 20,
   "id": "539e7fe9",
   "metadata": {},
   "outputs": [
    {
     "data": {
      "text/plain": [
       "tuple"
      ]
     },
     "execution_count": 20,
     "metadata": {},
     "output_type": "execute_result"
    }
   ],
   "source": [
    "type(this_is_a_function_5())"
   ]
  },
  {
   "cell_type": "markdown",
   "id": "283d5e38",
   "metadata": {},
   "source": [
    "As you see above, the default type of returned variables/objects/values is an immutable tuple, however you can define it to be something different..."
   ]
  },
  {
   "cell_type": "code",
   "execution_count": 21,
   "id": "a77f6747",
   "metadata": {},
   "outputs": [],
   "source": [
    "def this_is_a_function_6():\n",
    "    variable_1 = 586.334\n",
    "    variable_2 = \"String!\"\n",
    "    return [variable_1, variable_2]"
   ]
  },
  {
   "cell_type": "code",
   "execution_count": 22,
   "id": "992781c5",
   "metadata": {},
   "outputs": [
    {
     "data": {
      "text/plain": [
       "list"
      ]
     },
     "execution_count": 22,
     "metadata": {},
     "output_type": "execute_result"
    }
   ],
   "source": [
    "type(this_is_a_function_6())"
   ]
  },
  {
   "cell_type": "markdown",
   "id": "4922fe1e",
   "metadata": {},
   "source": [
    "You can also assign the output of a called function to a variable in order to do something else with it."
   ]
  },
  {
   "cell_type": "code",
   "execution_count": 23,
   "id": "735bebf8",
   "metadata": {},
   "outputs": [
    {
     "name": "stdout",
     "output_type": "stream",
     "text": [
      "[586.334, 'String!']\n"
     ]
    }
   ],
   "source": [
    "function_6_output = this_is_a_function_6()\n",
    "print(function_6_output)"
   ]
  },
  {
   "cell_type": "code",
   "execution_count": 24,
   "id": "d17c81a3",
   "metadata": {},
   "outputs": [
    {
     "name": "stdout",
     "output_type": "stream",
     "text": [
      "(586.334, 'String!')\n"
     ]
    },
    {
     "data": {
      "text/plain": [
       "tuple"
      ]
     },
     "execution_count": 24,
     "metadata": {},
     "output_type": "execute_result"
    }
   ],
   "source": [
    "function_5_output = this_is_a_function_5()\n",
    "print(function_5_output)\n",
    "type(function_5_output)"
   ]
  },
  {
   "cell_type": "code",
   "execution_count": 25,
   "id": "5b008227",
   "metadata": {},
   "outputs": [
    {
     "name": "stdout",
     "output_type": "stream",
     "text": [
      "586.334\n"
     ]
    },
    {
     "data": {
      "text/plain": [
       "float"
      ]
     },
     "execution_count": 25,
     "metadata": {},
     "output_type": "execute_result"
    }
   ],
   "source": [
    "function_4_output = this_is_a_function_4()\n",
    "print(function_4_output)\n",
    "type(function_4_output)"
   ]
  },
  {
   "cell_type": "code",
   "execution_count": 26,
   "id": "cb1710f4",
   "metadata": {},
   "outputs": [
    {
     "data": {
      "text/plain": [
       "195.44466666666665"
      ]
     },
     "execution_count": 26,
     "metadata": {},
     "output_type": "execute_result"
    }
   ],
   "source": [
    "function_4_output / 3"
   ]
  },
  {
   "cell_type": "markdown",
   "id": "a766af6d",
   "metadata": {},
   "source": [
    "Not to make things more confusing, but you have to remember that a function is just a way to refer to a block of code. Just like a variable, you can re-define it... re-definining functions isn't useful for anything other than understanding that most of programming is linking files, but also linking blocks of code together in different ways, and that a function is just another \"object\" that you can call (i.e. make run!)."
   ]
  },
  {
   "cell_type": "code",
   "execution_count": 27,
   "id": "87ab3b1f",
   "metadata": {},
   "outputs": [],
   "source": [
    "def this_is_a_function_1():\n",
    "    return \"oh ha! I return something now!\""
   ]
  },
  {
   "cell_type": "code",
   "execution_count": 28,
   "id": "1885e48e",
   "metadata": {},
   "outputs": [
    {
     "data": {
      "text/plain": [
       "'oh ha! I return something now!'"
      ]
     },
     "execution_count": 28,
     "metadata": {},
     "output_type": "execute_result"
    }
   ],
   "source": [
    "this_is_a_function_1()"
   ]
  },
  {
   "cell_type": "code",
   "execution_count": 29,
   "id": "a487869f",
   "metadata": {},
   "outputs": [],
   "source": [
    "this_is_a_function_1 = \"uh oh, now what?!\""
   ]
  },
  {
   "cell_type": "code",
   "execution_count": 30,
   "id": "74361af8",
   "metadata": {},
   "outputs": [
    {
     "ename": "TypeError",
     "evalue": "'str' object is not callable",
     "output_type": "error",
     "traceback": [
      "\u001b[1;31m---------------------------------------------------------------------------\u001b[0m",
      "\u001b[1;31mTypeError\u001b[0m                                 Traceback (most recent call last)",
      "Cell \u001b[1;32mIn[30], line 1\u001b[0m\n\u001b[1;32m----> 1\u001b[0m this_is_a_function_1()\n",
      "\u001b[1;31mTypeError\u001b[0m: 'str' object is not callable"
     ]
    }
   ],
   "source": [
    "this_is_a_function_1()"
   ]
  },
  {
   "cell_type": "markdown",
   "id": "9448f5e2",
   "metadata": {},
   "source": [
    "## Scope"
   ]
  },
  {
   "cell_type": "markdown",
   "id": "b5c16e75",
   "metadata": {},
   "source": [
    "So, what happened above? We redefined this_is_a_function_1(), and then assigned a string value to a variable of the same name . Essentially we re-defined the function with a string variable, which brings us to an important concept called \"scope\". \"Scope\" basically refers to the boundaries in memory (that you cannot see...) for which different values are applicable. This is relevant for functions, but especially when you start writing different scripts or packages that have access to different files, functions, classes, etc. While you can be careful not to name anything the same to avoid such issues, that gets to be very difficult when relying on many external libraries etc.\n",
    "\n",
    "So, again, like we did before, if you just call the name of the function (without the parentheses), iPython will explain to you what kind of object it is.\n"
   ]
  },
  {
   "cell_type": "code",
   "execution_count": 31,
   "id": "6bcc57dc",
   "metadata": {},
   "outputs": [
    {
     "data": {
      "text/plain": [
       "<function __main__.this_is_a_function_2()>"
      ]
     },
     "execution_count": 31,
     "metadata": {},
     "output_type": "execute_result"
    }
   ],
   "source": [
    "this_is_a_function_2"
   ]
  },
  {
   "cell_type": "markdown",
   "id": "178ec45a",
   "metadata": {},
   "source": [
    "**\\_\\_main\\_\\_** refers to a namespace, which, in this case, means this file or script... So, this function currently has a scope of this file or script (unless I import this file/script into another file like we have done with other libraries, but that is another topic...). If you want to learn more about this, read the documentation here: https://docs.python.org/3/library/__main__.html\n",
    "\n",
    "These are a bit more advanced, meta-understanding sort of topics in python, so don't worry if it is confusing and for now you can just focus on individual functions.\n",
    "\n",
    "Back to functions...\n",
    "\n",
    "So, we can define functions now that return something. Great. But how do we give them input? By defining arguments!\n",
    "\n",
    "## Defining functions with input arguments\n",
    "\n",
    "Ultimately, this is done in the function definition by simply giving possible input a name that is then used in the function."
   ]
  },
  {
   "cell_type": "code",
   "execution_count": 32,
   "id": "81cdd3d8",
   "metadata": {},
   "outputs": [],
   "source": [
    "def this_is_a_function_10(var1, var2):\n",
    "    \n",
    "    if type(var1) == int and type(var2) == int:\n",
    "        return var1 * var2\n",
    "    elif type(var1) == float and type(var2) == float:\n",
    "        return var1 * var2 / 2\n",
    "    elif type(var1) == str and type(var2) == str:\n",
    "        return \"String one: \" + var1 + \"    String two: \" + var2\n",
    "    else:\n",
    "        print(\"Unknown combination: {}, {}\".format(var1, var2))"
   ]
  },
  {
   "cell_type": "code",
   "execution_count": 33,
   "id": "9234094b",
   "metadata": {},
   "outputs": [
    {
     "data": {
      "text/plain": [
       "20"
      ]
     },
     "execution_count": 33,
     "metadata": {},
     "output_type": "execute_result"
    }
   ],
   "source": [
    "this_is_a_function_10(4, 5)"
   ]
  },
  {
   "cell_type": "code",
   "execution_count": 34,
   "id": "f8c37727",
   "metadata": {},
   "outputs": [
    {
     "data": {
      "text/plain": [
       "10.0"
      ]
     },
     "execution_count": 34,
     "metadata": {},
     "output_type": "execute_result"
    }
   ],
   "source": [
    "this_is_a_function_10(4.0, 5.0)"
   ]
  },
  {
   "cell_type": "code",
   "execution_count": 35,
   "id": "bc07b070",
   "metadata": {},
   "outputs": [
    {
     "data": {
      "text/plain": [
       "'String one: 4    String two: 5'"
      ]
     },
     "execution_count": 35,
     "metadata": {},
     "output_type": "execute_result"
    }
   ],
   "source": [
    "this_is_a_function_10(\"4\", \"5\")"
   ]
  },
  {
   "cell_type": "code",
   "execution_count": 36,
   "id": "eedfa090",
   "metadata": {},
   "outputs": [
    {
     "name": "stdout",
     "output_type": "stream",
     "text": [
      "Unknown combination: 4, 5.0\n"
     ]
    }
   ],
   "source": [
    "this_is_a_function_10(4, 5.0)"
   ]
  },
  {
   "cell_type": "markdown",
   "id": "90d1f93d",
   "metadata": {},
   "source": [
    "Now, remember how we mentioned scope before? Try and see what happens if you print one of the variables defined as part of the function..."
   ]
  },
  {
   "cell_type": "code",
   "execution_count": 37,
   "id": "4d61f27c",
   "metadata": {},
   "outputs": [
    {
     "ename": "NameError",
     "evalue": "name 'var1' is not defined",
     "output_type": "error",
     "traceback": [
      "\u001b[1;31m---------------------------------------------------------------------------\u001b[0m",
      "\u001b[1;31mNameError\u001b[0m                                 Traceback (most recent call last)",
      "Cell \u001b[1;32mIn[37], line 1\u001b[0m\n\u001b[1;32m----> 1\u001b[0m \u001b[38;5;28mprint\u001b[39m(var1)\n",
      "\u001b[1;31mNameError\u001b[0m: name 'var1' is not defined"
     ]
    }
   ],
   "source": [
    "print(var1)"
   ]
  },
  {
   "cell_type": "markdown",
   "id": "5fbe6039",
   "metadata": {},
   "source": [
    "In this case, the reference to \"var1\" and \"var2\" are only valid inside the function definition, just like the functions we are defining are only valid inside this file (...unless we import them into another file). Next week we will talk more about classes and very briefly about python packages, but the concept is the same, in that classes are essentially just another way to define a new object that can have attributes and functions that have a limited scope that only apply to the class. These are all different ways to divide code depending on your needs and what you need it to do (or not do).\n",
    "\n",
    "... Anyways, there is also another way to define arguments for a function, and that is to explicitly assign keywords with a default value. This means that if no value is defined for these arguments, the default value that is defined will be used."
   ]
  },
  {
   "cell_type": "code",
   "execution_count": 38,
   "id": "6a556b9e",
   "metadata": {},
   "outputs": [],
   "source": [
    "def this_is_a_function_11(var1 = 1, var2 = 3):\n",
    "    \n",
    "    if type(var1) == int and type(var2) == int:\n",
    "        return var1 * var2\n",
    "    elif type(var1) == float and type(var2) == float:\n",
    "        return var1 * var2 / 2\n",
    "    elif type(var1) == str and type(var2) == str:\n",
    "        return \"String one: \" + var1 + \"    String two: \" + var2\n",
    "    else:\n",
    "        print(\"Unknown combination: {}, {}\".format(var1, var2))"
   ]
  },
  {
   "cell_type": "code",
   "execution_count": 39,
   "id": "d7491e7f",
   "metadata": {},
   "outputs": [
    {
     "data": {
      "text/plain": [
       "3"
      ]
     },
     "execution_count": 39,
     "metadata": {},
     "output_type": "execute_result"
    }
   ],
   "source": [
    "this_is_a_function_11()"
   ]
  },
  {
   "cell_type": "code",
   "execution_count": 40,
   "id": "26567eae",
   "metadata": {},
   "outputs": [
    {
     "data": {
      "text/plain": [
       "56"
      ]
     },
     "execution_count": 40,
     "metadata": {},
     "output_type": "execute_result"
    }
   ],
   "source": [
    "this_is_a_function_11(7, 8)"
   ]
  },
  {
   "cell_type": "code",
   "execution_count": 41,
   "id": "a8b7bd17",
   "metadata": {},
   "outputs": [
    {
     "data": {
      "text/plain": [
       "'String one: first    String two: second'"
      ]
     },
     "execution_count": 41,
     "metadata": {},
     "output_type": "execute_result"
    }
   ],
   "source": [
    "this_is_a_function_11(\"first\", \"second\")"
   ]
  },
  {
   "cell_type": "code",
   "execution_count": 42,
   "id": "97d0d0bc",
   "metadata": {},
   "outputs": [
    {
     "data": {
      "text/plain": [
       "'String one: second    String two: first'"
      ]
     },
     "execution_count": 42,
     "metadata": {},
     "output_type": "execute_result"
    }
   ],
   "source": [
    "this_is_a_function_11(var2 = \"first\", var1 = \"second\")"
   ]
  },
  {
   "cell_type": "markdown",
   "id": "747a1eca",
   "metadata": {},
   "source": [
    "Hmm...that was interesting. If you missed it, take a closer look above at what happened.\n",
    "\n",
    "The keyword arguments for the function called \"var1\" and \"var2\" can also be referred to by name! However, try to access them again, and you'll get an error."
   ]
  },
  {
   "cell_type": "code",
   "execution_count": 43,
   "id": "884a3ff3",
   "metadata": {},
   "outputs": [
    {
     "ename": "NameError",
     "evalue": "name 'var1' is not defined",
     "output_type": "error",
     "traceback": [
      "\u001b[1;31m---------------------------------------------------------------------------\u001b[0m",
      "\u001b[1;31mNameError\u001b[0m                                 Traceback (most recent call last)",
      "Cell \u001b[1;32mIn[43], line 1\u001b[0m\n\u001b[1;32m----> 1\u001b[0m \u001b[38;5;28mprint\u001b[39m(var1)\n",
      "\u001b[1;31mNameError\u001b[0m: name 'var1' is not defined"
     ]
    }
   ],
   "source": [
    "print(var1)"
   ]
  },
  {
   "cell_type": "markdown",
   "id": "71322783",
   "metadata": {},
   "source": [
    "This is because  \"var1\" and \"var2\" are still only valid inside the function, however, since you defined them by name, you can refer to them by name when calling the function. This is very useful especially if you have multiple arguments so that you make sure you are passing the proper values instead of having to rely only on the order that they are given to the function. These are referred to as \"keyword arguments\" and you'll see this shortened to \"kwargs\".\n",
    "\n",
    "\n",
    "## Definining a function to take an unknown number of arguments\n",
    "\n",
    "There are two other ways to pass values to a function that might be useful for you someday, but are a bit more advanced. There are two ways to pass values if you don't necessarily know the number of values you want to pass! This is done using one or two stars * and a name to refer to the arguments. Out of convention, these are referred to as args (short for arguments) and kwargs (short for keyword arguments), but you could call them whatever you like....\n",
    "\n",
    "Let's take a look at both of these things by checking the type of what happens for each kind of unknown number of arguments..."
   ]
  },
  {
   "cell_type": "code",
   "execution_count": 44,
   "id": "2289a8c7",
   "metadata": {},
   "outputs": [],
   "source": [
    "def this_is_a_function_12(*args):\n",
    "    print(type(args))"
   ]
  },
  {
   "cell_type": "code",
   "execution_count": 45,
   "id": "6a32cfea",
   "metadata": {},
   "outputs": [
    {
     "name": "stdout",
     "output_type": "stream",
     "text": [
      "<class 'tuple'>\n"
     ]
    }
   ],
   "source": [
    "this_is_a_function_12()"
   ]
  },
  {
   "cell_type": "code",
   "execution_count": 46,
   "id": "4df6b289",
   "metadata": {},
   "outputs": [],
   "source": [
    "def this_is_a_function_13(**kwargs):\n",
    "    print(type(kwargs))"
   ]
  },
  {
   "cell_type": "code",
   "execution_count": 47,
   "id": "2f2dfaed",
   "metadata": {},
   "outputs": [
    {
     "name": "stdout",
     "output_type": "stream",
     "text": [
      "<class 'dict'>\n"
     ]
    }
   ],
   "source": [
    "this_is_a_function_13()"
   ]
  },
  {
   "cell_type": "markdown",
   "id": "cc322071",
   "metadata": {},
   "source": [
    "So, the first one with one \\* essentially receives a tuple, and the second one with \\*\\* receives a dictionary. This makes sense, since the first one receives an iterably tuple and the second one essentially unknown keywords with values. Ok, that's interesting but a bit abstract. How do you use such a thing?"
   ]
  },
  {
   "cell_type": "code",
   "execution_count": 48,
   "id": "3425ca4e",
   "metadata": {},
   "outputs": [],
   "source": [
    "def this_is_a_function_14(*args):\n",
    "    for arg in args:\n",
    "        print(arg)"
   ]
  },
  {
   "cell_type": "code",
   "execution_count": 49,
   "id": "b517daed",
   "metadata": {},
   "outputs": [
    {
     "name": "stdout",
     "output_type": "stream",
     "text": [
      "test\n",
      "4\n",
      "6.5\n",
      "ah!\n"
     ]
    }
   ],
   "source": [
    "this_is_a_function_14(\"test\", 4, 6.5, \"ah!\")"
   ]
  },
  {
   "cell_type": "code",
   "execution_count": 50,
   "id": "44110f41",
   "metadata": {},
   "outputs": [],
   "source": [
    "def this_is_a_function_15(first_value, second_value, *args):\n",
    "    for arg in args:\n",
    "        print(arg)"
   ]
  },
  {
   "cell_type": "code",
   "execution_count": 51,
   "id": "278611b8",
   "metadata": {},
   "outputs": [
    {
     "name": "stdout",
     "output_type": "stream",
     "text": [
      "6.5\n",
      "ah!\n"
     ]
    }
   ],
   "source": [
    "this_is_a_function_15(\"test\", 4, 6.5, \"ah!\")"
   ]
  },
  {
   "cell_type": "code",
   "execution_count": 52,
   "id": "b95ec912",
   "metadata": {},
   "outputs": [],
   "source": [
    "def this_is_a_function_16(first_value, second_value, *args):\n",
    "    for arg in args:\n",
    "        print(arg)\n",
    "        \n",
    "    print(\"This is actually the first argument: {}\".format(first_value))\n",
    "    print(\"And this is the second argument: {}\".format(second_value))"
   ]
  },
  {
   "cell_type": "code",
   "execution_count": 53,
   "id": "7eb55973",
   "metadata": {},
   "outputs": [
    {
     "name": "stdout",
     "output_type": "stream",
     "text": [
      "6.5\n",
      "ah!\n",
      "This is actually the first argument: test\n",
      "And this is the second argument: 4\n"
     ]
    }
   ],
   "source": [
    "this_is_a_function_16(\"test\", 4, 6.5, \"ah!\")"
   ]
  },
  {
   "cell_type": "markdown",
   "id": "0f6c96a6",
   "metadata": {},
   "source": [
    "So, you can pass any number of arguments. To make it even more confusing, let's call the same function as before, but refer to the defined arguments by keyword and see what happens:"
   ]
  },
  {
   "cell_type": "code",
   "execution_count": 54,
   "id": "1f631d9b",
   "metadata": {},
   "outputs": [
    {
     "ename": "TypeError",
     "evalue": "this_is_a_function_16() got multiple values for argument 'second_value'",
     "output_type": "error",
     "traceback": [
      "\u001b[1;31m---------------------------------------------------------------------------\u001b[0m",
      "\u001b[1;31mTypeError\u001b[0m                                 Traceback (most recent call last)",
      "Cell \u001b[1;32mIn[54], line 1\u001b[0m\n\u001b[1;32m----> 1\u001b[0m this_is_a_function_16(\u001b[38;5;241m6.5\u001b[39m, \u001b[38;5;124m\"\u001b[39m\u001b[38;5;124mah!\u001b[39m\u001b[38;5;124m\"\u001b[39m, second_value \u001b[38;5;241m=\u001b[39m \u001b[38;5;124m\"\u001b[39m\u001b[38;5;124mtest\u001b[39m\u001b[38;5;124m\"\u001b[39m, first_value \u001b[38;5;241m=\u001b[39m \u001b[38;5;241m4\u001b[39m)\n",
      "\u001b[1;31mTypeError\u001b[0m: this_is_a_function_16() got multiple values for argument 'second_value'"
     ]
    }
   ],
   "source": [
    "this_is_a_function_16(6.5, \"ah!\", second_value = \"test\", first_value = 4)"
   ]
  },
  {
   "cell_type": "code",
   "execution_count": 55,
   "id": "c5d8f2e1",
   "metadata": {},
   "outputs": [
    {
     "ename": "SyntaxError",
     "evalue": "positional argument follows keyword argument (1391473956.py, line 1)",
     "output_type": "error",
     "traceback": [
      "\u001b[1;36m  Cell \u001b[1;32mIn[55], line 1\u001b[1;36m\u001b[0m\n\u001b[1;33m    this_is_a_function_16(second_value = \"test\", first_value = 4, 6.5, \"ah!\")\u001b[0m\n\u001b[1;37m                                                                            ^\u001b[0m\n\u001b[1;31mSyntaxError\u001b[0m\u001b[1;31m:\u001b[0m positional argument follows keyword argument\n"
     ]
    }
   ],
   "source": [
    "this_is_a_function_16(second_value = \"test\", first_value = 4, 6.5, \"ah!\")"
   ]
  },
  {
   "cell_type": "code",
   "execution_count": 56,
   "id": "a0bd6012",
   "metadata": {},
   "outputs": [
    {
     "ename": "SyntaxError",
     "evalue": "positional argument follows keyword argument (4074129025.py, line 1)",
     "output_type": "error",
     "traceback": [
      "\u001b[1;36m  Cell \u001b[1;32mIn[56], line 1\u001b[1;36m\u001b[0m\n\u001b[1;33m    this_is_a_function_16(first_value = 4, second_value = \"test\", 6.5, \"ah!\")\u001b[0m\n\u001b[1;37m                                                                            ^\u001b[0m\n\u001b[1;31mSyntaxError\u001b[0m\u001b[1;31m:\u001b[0m positional argument follows keyword argument\n"
     ]
    }
   ],
   "source": [
    "this_is_a_function_16(first_value = 4, second_value = \"test\", 6.5, \"ah!\")"
   ]
  },
  {
   "cell_type": "markdown",
   "id": "95f73b4b",
   "metadata": {},
   "source": [
    "So, when you use the single \\*, positional arguments are expected, which means the order matters and you ought not use keyword names when calling the function if an unknown number of positional arguments are defined. If you want to refer to an unknown number of arguments by keyword, you have to use the double star \\*\\*  This can get a bit more confusing, but basically, this defines a function that can handle a dictionary (keyword value pairs) that is unknown!"
   ]
  },
  {
   "cell_type": "code",
   "execution_count": 57,
   "id": "9e52ebe1",
   "metadata": {},
   "outputs": [],
   "source": [
    "def this_is_a_function_17(**kwargs): \n",
    "    for key, value in kwargs.items():\n",
    "        print (\"%s == %s\" %(key, value))"
   ]
  },
  {
   "cell_type": "code",
   "execution_count": 58,
   "id": "d32abad0",
   "metadata": {},
   "outputs": [
    {
     "name": "stdout",
     "output_type": "stream",
     "text": [
      "var1 == ah\n",
      "var2 == number 2\n",
      "var3 == 48485\n"
     ]
    }
   ],
   "source": [
    "this_is_a_function_17(var1 = \"ah\", var2 = \"number 2\", var3 = 48485)"
   ]
  },
  {
   "cell_type": "markdown",
   "id": "83cc6ece",
   "metadata": {},
   "source": [
    "So, to solve the error that we got before when referring to keyword arguments when expecting unknown positional arguments, we can just define both...but still have to be careful of the order that values are defined in the function. For example, if we define it like this, we have the same problem as before:"
   ]
  },
  {
   "cell_type": "code",
   "execution_count": 59,
   "id": "cf172d6d",
   "metadata": {},
   "outputs": [],
   "source": [
    "def this_is_a_function_18(first_value, second_value, *args, **kwargs): \n",
    "    \n",
    "    for arg in args:\n",
    "        print(arg)\n",
    "        \n",
    "    print(\"This is actually the first argument: {}\".format(first_value))\n",
    "    print(\"And this is the second argument: {}\".format(second_value))\n",
    "    \n",
    "    for key, value in kwargs.items():\n",
    "        print (\"%s == %s\" %(key, value))"
   ]
  },
  {
   "cell_type": "code",
   "execution_count": 61,
   "id": "5c01bb9d",
   "metadata": {},
   "outputs": [
    {
     "ename": "TypeError",
     "evalue": "this_is_a_function_18() got multiple values for argument 'second_value'",
     "output_type": "error",
     "traceback": [
      "\u001b[1;31m---------------------------------------------------------------------------\u001b[0m",
      "\u001b[1;31mTypeError\u001b[0m                                 Traceback (most recent call last)",
      "Cell \u001b[1;32mIn[61], line 1\u001b[0m\n\u001b[1;32m----> 1\u001b[0m this_is_a_function_18(\u001b[38;5;241m6.5\u001b[39m, \u001b[38;5;124m\"\u001b[39m\u001b[38;5;124mah!\u001b[39m\u001b[38;5;124m\"\u001b[39m, second_value \u001b[38;5;241m=\u001b[39m \u001b[38;5;124m\"\u001b[39m\u001b[38;5;124mtest\u001b[39m\u001b[38;5;124m\"\u001b[39m, first_value \u001b[38;5;241m=\u001b[39m \u001b[38;5;241m4\u001b[39m)\n",
      "\u001b[1;31mTypeError\u001b[0m: this_is_a_function_18() got multiple values for argument 'second_value'"
     ]
    }
   ],
   "source": [
    "this_is_a_function_18(6.5, \"ah!\", second_value = \"test\", first_value = 4)"
   ]
  },
  {
   "cell_type": "markdown",
   "id": "799ce774",
   "metadata": {},
   "source": [
    "But if we take the positional arguments first and define keyword arguments, the function works without any issues."
   ]
  },
  {
   "cell_type": "code",
   "execution_count": 62,
   "id": "85643d1f",
   "metadata": {},
   "outputs": [],
   "source": [
    "def this_is_a_function_19(*args, first_value, second_value, **kwargs): \n",
    "    \n",
    "    for arg in args:\n",
    "        print(arg)\n",
    "        \n",
    "    print(\"This is actually a keyword argument: {}\".format(first_value))\n",
    "    print(\"And this is the second keyword argument: {}\".format(second_value))\n",
    "    \n",
    "    for key, value in kwargs.items():\n",
    "        print (\"%s == %s\" %(key, value))"
   ]
  },
  {
   "cell_type": "code",
   "execution_count": 63,
   "id": "7cab20aa",
   "metadata": {},
   "outputs": [
    {
     "name": "stdout",
     "output_type": "stream",
     "text": [
      "6.5\n",
      "ah!\n",
      "This is actually a keyword argument: 4\n",
      "And this is the second keyword argument: test\n"
     ]
    }
   ],
   "source": [
    "this_is_a_function_19(6.5, \"ah!\", second_value = \"test\", first_value = 4)"
   ]
  },
  {
   "cell_type": "markdown",
   "id": "7b4a4771",
   "metadata": {},
   "source": [
    "And finally, we can also give some keyword arguments as well as positional arguments default values..."
   ]
  },
  {
   "cell_type": "code",
   "execution_count": 64,
   "id": "00fcc1c8",
   "metadata": {},
   "outputs": [],
   "source": [
    "def this_is_a_function_20(first_pos, *args, first_kw = 56, second_kw = \"two\", **kwargs): \n",
    "    \n",
    "    print(\"This is actually the first argument: {}\".format(first_pos))\n",
    "    \n",
    "    for arg in args:\n",
    "        print(arg)\n",
    "        \n",
    "    print(\"This is actually a keyword argument: {}\".format(first_kw))\n",
    "    print(\"And this is the second keyword argument: {}\".format(second_kw))\n",
    "    \n",
    "    for key, value in kwargs.items():\n",
    "        print (\"%s == %s\" %(key, value))"
   ]
  },
  {
   "cell_type": "code",
   "execution_count": 65,
   "id": "3b0b9356",
   "metadata": {},
   "outputs": [
    {
     "ename": "TypeError",
     "evalue": "this_is_a_function_20() missing 1 required positional argument: 'first_pos'",
     "output_type": "error",
     "traceback": [
      "\u001b[1;31m---------------------------------------------------------------------------\u001b[0m",
      "\u001b[1;31mTypeError\u001b[0m                                 Traceback (most recent call last)",
      "Cell \u001b[1;32mIn[65], line 1\u001b[0m\n\u001b[1;32m----> 1\u001b[0m this_is_a_function_20()\n",
      "\u001b[1;31mTypeError\u001b[0m: this_is_a_function_20() missing 1 required positional argument: 'first_pos'"
     ]
    }
   ],
   "source": [
    "this_is_a_function_20()"
   ]
  },
  {
   "cell_type": "code",
   "execution_count": 66,
   "id": "926f4266",
   "metadata": {},
   "outputs": [
    {
     "name": "stdout",
     "output_type": "stream",
     "text": [
      "This is actually the first argument: Hello!\n",
      "This is actually a keyword argument: 56\n",
      "And this is the second keyword argument: two\n"
     ]
    }
   ],
   "source": [
    "this_is_a_function_20(\"Hello!\")"
   ]
  },
  {
   "cell_type": "code",
   "execution_count": 67,
   "id": "77d82c5d",
   "metadata": {},
   "outputs": [
    {
     "name": "stdout",
     "output_type": "stream",
     "text": [
      "This is actually the first argument: Hello!\n",
      "number 2\n",
      "number 3\n",
      "This is actually a keyword argument: 56\n",
      "And this is the second keyword argument: two\n"
     ]
    }
   ],
   "source": [
    "this_is_a_function_20(\"Hello!\", \"number 2\", \"number 3\")"
   ]
  },
  {
   "cell_type": "code",
   "execution_count": 68,
   "id": "0d6b9a9c",
   "metadata": {},
   "outputs": [
    {
     "name": "stdout",
     "output_type": "stream",
     "text": [
      "This is actually the first argument: Hello!\n",
      "number 2\n",
      "number 3\n",
      "This is actually a keyword argument: 56\n",
      "And this is the second keyword argument: two\n",
      "programm == keyword program value\n",
      "test == what is this nonsense?!\n"
     ]
    }
   ],
   "source": [
    "this_is_a_function_20(\n",
    "    \"Hello!\", \"number 2\", \"number 3\",\n",
    "    programm = \"keyword program value\",\n",
    "    test = \"what is this nonsense?!\"\n",
    ")"
   ]
  },
  {
   "cell_type": "code",
   "execution_count": 69,
   "id": "06d28924",
   "metadata": {},
   "outputs": [
    {
     "name": "stdout",
     "output_type": "stream",
     "text": [
      "This is actually the first argument: Hello!\n",
      "number 2\n",
      "number 3\n",
      "This is actually a keyword argument: 56\n",
      "And this is the second keyword argument: I changed this second value now!\n",
      "programm == keyword program value\n",
      "test == what is this nonsense?!\n"
     ]
    }
   ],
   "source": [
    "this_is_a_function_20(\n",
    "    \"Hello!\", \"number 2\", \"number 3\",\n",
    "    programm = \"keyword program value\",\n",
    "    test = \"what is this nonsense?!\",\n",
    "    second_kw = \"I changed this second value now!\"\n",
    ")"
   ]
  },
  {
   "cell_type": "code",
   "execution_count": 70,
   "id": "8457a87a",
   "metadata": {},
   "outputs": [
    {
     "name": "stdout",
     "output_type": "stream",
     "text": [
      "This is actually the first argument: Hello!\n",
      "number 2\n",
      "number 3\n",
      "This is actually a keyword argument: I changed this first value now!\n",
      "And this is the second keyword argument: two\n",
      "programm == keyword program value\n",
      "test == what is this nonsense?!\n"
     ]
    }
   ],
   "source": [
    "this_is_a_function_20(\n",
    "    \"Hello!\", \"number 2\", \"number 3\",\n",
    "    programm = \"keyword program value\",\n",
    "    test = \"what is this nonsense?!\",\n",
    "    first_kw = \"I changed this first value now!\"\n",
    ")"
   ]
  },
  {
   "cell_type": "markdown",
   "id": "9e8d3fe0",
   "metadata": {},
   "source": [
    "Ok, maybe things are extra confusing now, but at least you know that there are multiple ways to pass values to a function... What you do with the values is completely up to you! ;)"
   ]
  },
  {
   "cell_type": "markdown",
   "id": "772de1b3",
   "metadata": {},
   "source": [
    "One final thing... docstrings (https://peps.python.org/pep-0257/)! There are a few \"standards\" of how to define these, but docstrings are useful not only for internal documentation, but particularly to explain to users how to use a function/class/module. There are also methods to automatically convert all docstrings in a package into documentation (like Sphinx: https://www.sphinx-doc.org/en/master/)"
   ]
  },
  {
   "cell_type": "code",
   "execution_count": 71,
   "id": "270dc3e3",
   "metadata": {},
   "outputs": [],
   "source": [
    "def this_is_a_function_21(xyz, abc, num=None):\n",
    "    \"\"\"\n",
    "    Function that concatonates strings.\n",
    "\n",
    "    Parameters\n",
    "    ----------\n",
    "    xyz: <str>\n",
    "        First string.\n",
    "    abc: <str>\n",
    "        Second string.\n",
    "    num:\n",
    "        Optional numerical variable to be added as well.\n",
    "        \n",
    "\n",
    "    Returns\n",
    "    -------\n",
    "    <str>\n",
    "        Resulting string.\n",
    "    \"\"\"\n",
    "    output = '{} {}'.format(xyz, abc)\n",
    "    if num is not None:\n",
    "        num = str(num)\n",
    "        output = '{} {}'.format(output, num)\n",
    "    return output"
   ]
  },
  {
   "cell_type": "code",
   "execution_count": 72,
   "id": "b196616e",
   "metadata": {},
   "outputs": [
    {
     "name": "stdout",
     "output_type": "stream",
     "text": [
      "Help on function this_is_a_function_21 in module __main__:\n",
      "\n",
      "this_is_a_function_21(xyz, abc, num=None)\n",
      "    Function that concatonates strings.\n",
      "    \n",
      "    Parameters\n",
      "    ----------\n",
      "    xyz: <str>\n",
      "        First string.\n",
      "    abc: <str>\n",
      "        Second string.\n",
      "    num:\n",
      "        Optional numerical variable to be added as well.\n",
      "        \n",
      "    \n",
      "    Returns\n",
      "    -------\n",
      "    <str>\n",
      "        Resulting string.\n",
      "\n"
     ]
    }
   ],
   "source": [
    "help(this_is_a_function_21)"
   ]
  },
  {
   "cell_type": "code",
   "execution_count": 73,
   "id": "b1d14a4a",
   "metadata": {},
   "outputs": [
    {
     "data": {
      "text/plain": [
       "'first string second string'"
      ]
     },
     "execution_count": 73,
     "metadata": {},
     "output_type": "execute_result"
    }
   ],
   "source": [
    "this_is_a_function_21(\"first string\", \"second string\")"
   ]
  },
  {
   "cell_type": "code",
   "execution_count": 74,
   "id": "39b361a2",
   "metadata": {},
   "outputs": [
    {
     "data": {
      "text/plain": [
       "'first string second string 45.0'"
      ]
     },
     "execution_count": 74,
     "metadata": {},
     "output_type": "execute_result"
    }
   ],
   "source": [
    "this_is_a_function_21(\"first string\", \"second string\", 45.00)"
   ]
  },
  {
   "cell_type": "markdown",
   "id": "7fda10a8",
   "metadata": {},
   "source": [
    "## Exercise\n",
    "\n",
    "Try to do the following:\n",
    "\n",
    "1. Define and then call functions that work in this document directly in the python interpreter (i.e. NOT in a notebook) and see what happens.\n",
    "    - Be sure to call the globals() and/or locals() functions from the interpreter after trying a few things. You will see that the output values are different between the notebook, which runs interactive Python (iPython) versus a standard Python interpreter...\n",
    "2. Write a function that takes three arguments and multiplies the first two arguments by each other and adds the third parameter to the multiplied value.\n",
    "    - See what happens if you give that function a non-numeric argument (e.g. string). Think about how you can handle such \"errors\".\n",
    "3. Define and call a function INSIDE another function -- this can be useful if you need to do the same thing multiple times within a function and nowhere else (again, just another way to limit or control scope...).\n",
    "4. Play around with the concept of recursion, which is where a function is defined and calls itself in its definition. This is a more advanced concept, but can be useful sometimes. See here for more details: https://www.geeksforgeeks.org/recursion-in-python/"
   ]
  },
  {
   "cell_type": "markdown",
   "id": "1ee9b50d",
   "metadata": {},
   "source": [
    "If you feel like you have a good handle on the basics of functions, feel free to take a look at this introduction tutorial on classes: https://www.learnpython.org/en/Classes_and_Objects"
   ]
  },
  {
   "cell_type": "code",
   "execution_count": null,
   "id": "c81cdc27",
   "metadata": {},
   "outputs": [],
   "source": []
  }
 ],
 "metadata": {
  "kernelspec": {
   "display_name": "Python 3 (ipykernel)",
   "language": "python",
   "name": "python3"
  },
  "language_info": {
   "codemirror_mode": {
    "name": "ipython",
    "version": 3
   },
   "file_extension": ".py",
   "mimetype": "text/x-python",
   "name": "python",
   "nbconvert_exporter": "python",
   "pygments_lexer": "ipython3",
   "version": "3.11.11"
  }
 },
 "nbformat": 4,
 "nbformat_minor": 5
}
