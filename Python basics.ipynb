{
 "cells": [
  {
   "cell_type": "markdown",
   "id": "39a622d1-a422-4e13-8fd9-58681e45e8bb",
   "metadata": {},
   "source": [
    "# Hello World!"
   ]
  },
  {
   "cell_type": "code",
   "execution_count": 31,
   "id": "508db610-595e-444f-802f-607b4fb2fcfa",
   "metadata": {},
   "outputs": [],
   "source": [
    "from access import my_list, get_max"
   ]
  },
  {
   "cell_type": "code",
   "execution_count": 28,
   "id": "b1ea231d-3c04-49f6-b0f1-40742d8a852f",
   "metadata": {},
   "outputs": [
    {
     "data": {
      "text/plain": [
       "[1, 2, 3, 4, 5]"
      ]
     },
     "execution_count": 28,
     "metadata": {},
     "output_type": "execute_result"
    }
   ],
   "source": [
    "my_list"
   ]
  },
  {
   "cell_type": "code",
   "execution_count": 32,
   "id": "3e888e04-ec7c-43e9-904c-748911f970b6",
   "metadata": {},
   "outputs": [
    {
     "data": {
      "text/plain": [
       "5"
      ]
     },
     "execution_count": 32,
     "metadata": {},
     "output_type": "execute_result"
    }
   ],
   "source": [
    "get_max(my_list)"
   ]
  },
  {
   "cell_type": "code",
   "execution_count": 34,
   "id": "6e7c3515-fbe0-46d2-8abc-9281a716a44f",
   "metadata": {},
   "outputs": [
    {
     "data": {
      "text/plain": [
       "'3.11.10 (main, Sep 20 2024, 18:44:55) [MSC v.1938 64 bit (AMD64)]'"
      ]
     },
     "execution_count": 34,
     "metadata": {},
     "output_type": "execute_result"
    }
   ],
   "source": [
    "import sys\n",
    "sys.version\n"
   ]
  }
 ],
 "metadata": {
  "kernelspec": {
   "display_name": "Python 3 (ipykernel)",
   "language": "python",
   "name": "python3"
  },
  "language_info": {
   "codemirror_mode": {
    "name": "ipython",
    "version": 3
   },
   "file_extension": ".py",
   "mimetype": "text/x-python",
   "name": "python",
   "nbconvert_exporter": "python",
   "pygments_lexer": "ipython3",
   "version": "3.11.10"
  }
 },
 "nbformat": 4,
 "nbformat_minor": 5
}
